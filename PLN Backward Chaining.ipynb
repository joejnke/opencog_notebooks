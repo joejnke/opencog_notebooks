{
 "cells": [
  {
   "cell_type": "markdown",
   "metadata": {},
   "source": [
    "# PLN Backward Chaining\n",
    "\n",
    "*Backward Chaining* is (or planned to be) used in *OpenCog* for :<br>\n",
    "> * *[OpenPsi](https://wiki.opencog.org/w/OpenPsi) planning*<br>\n",
    "> * improving fitness estimates of *[MOSES](https://wiki.opencog.org/w/Meta-Optimizing_Semantic_Evolutionary_Search)* models<br>\n",
    "> * generally, for finding subtler patterns that specialized algorithms like the *pattern miner* miss.\n",
    "\n",
    "For a Background on *PLN* see [Probabilistic logic networks](https://wiki.opencog.org/w/Probabilistic_logic_networks)"
   ]
  },
  {
   "cell_type": "markdown",
   "metadata": {},
   "source": [
    "# Theory\n",
    "\n",
    "In simple rule-based systems, there are two kinds of inference, [forward chaining](https://wiki.opencog.org/w/Unified_rule_engine#Forward_Chainer) and [backward chaining](https://wiki.opencog.org/w/Unified_rule_engine#Backward_Chainer).\n",
    "\n",
    "**Backward chaining :**  given a target, an atom that may or may not contain free variables, the system tries to find an inference tree that proves the target, grounding the free variables if necessary.<br>\n",
    "Because the target determines which rules are selected and used, this method is considered *goal-driven*, in contrast to *data-driven* *forward-chaining* inference. Backward chaining is also considered to be *goal-directed* inference, or *hypothesis driven*, because inferences are not performed until the system is made to prove a particular goal (i.e. a question or target).<br>\n",
    "*Backward Chaining* is used when you want to work backwards from the [Consequent](http://en.wikipedia.org/wiki/Consequent) to the [Antecedent](http://en.wikipedia.org/wiki/Antecedent_(logic%29). It is usually the part that follows *'then'* in a proposition.\n",
    "\n",
    "**Examples of antecedents & consequents :**\n",
    "> -  If **_P_**, then **_Q_**.<br>\n",
    "**_Q_** is the consequent of this hypothetical proposition. **_P_** is the antecedent.<br>\n",
    "-  If **_X_** is a mammal, then **_X_** is an animal.<br>\n",
    "Here, \" **_X_** is an animal\" is the consequent, and \" **_X_** is a mammal\" an antecedent.<br>\n",
    "-  If OpenCog can think, then the Singularity is near.<br>\n",
    "\"the Singularity is near\" is the consequent, and \"OpenCog can think\" is an antecedent.<br>\n",
    "\n",
    "**A logical example of Backward Chaining**<br>\n",
    "> Here we will try to satisfy the goal of determining whether 'Plato is mortal' or not.<br>\n",
    "Known facts:<br>\n",
    "> -  Plato is a philosopher.\n",
    "> -  Plato likes to wrestle.<br>\n",
    "\n",
    "> The goal is to find out whether Plato is mortal based on a rule base : <br>\n",
    "> 1. **If** X is a philosopher and likes to wrestle **then** X is a man.\n",
    "> 2. **If** X can fly and lives in the sky **then** X is a god.\n",
    "> 3. **If** X is a god **then** X is immortal.\n",
    "> 4. **If** X is a man **then** X is mortal. <br>\n",
    "\n",
    "> Using backward reasoning we can determine whether Plato is mortal in 4 steps. As we can see from rule 4, that this rule has a consequent of 'X is mortal' matches our goal to find out if 'Plato is mortal', so this checks out. Look at the antecedent to step 4 (the bit just after the If clause) - it is 'X is a man'. So now this antecedent (Substituting X for Plato) becomes the new goal of finding out if 'Plato is a man'.<br> \n",
    "We can see rule 1 contains the consequent 'X is a man', and can see the antecedents are .. 'X is a philosopher', and 'X likes to wrestle'.<br>\n",
    "So now the antecedent(s) are broken down into two subgoals...<br> \n",
    "Given the two facts of 'Plato is a Philosopher' and 'Plato likes to wrestle', we can see that these two subgoals are satisfied.<br> \n",
    "We find rule 1 matches - and find that it is true that the consequent of rule 4 'X is mortal' matches - and therefore Plato is indeed mortal.\n",
    "\n",
    "**More theory**<br>\n",
    "- Here is short explainer of [Backward Chaining by Jocelyn Ireson-Paine](http://www.j-paine.org/students/lectures/lect3/node12.html)<br>\n",
    "- Also see the [Wikipedia Page on Backward Chaining](http://en.wikipedia.org/wiki/Backward_chaining)"
   ]
  },
  {
   "cell_type": "markdown",
   "metadata": {},
   "source": [
    "# Introduction\n",
    "This tutorial can be practiced both on the jupyter notebook and the scheme environment.<br>\n",
    "For the case of scheme environment, you need to copy-paste the codes into the scheme shell.<br>\n",
    "For the case of jupyter notebook, if you have installed [Guile kernel](https://github.com/jerry40/guile-kernel), you can simply run the code cells and observe the output.<br>\n",
    "\n",
    "**NOTE :** You need to follow the sub-sections listed below only if you are practicing using the jupyter notebook. <br>\n",
    "After completing them, move to [**\"Back after loading the files\"**](#Back-after-loading-the-files) sub-section.<br>\n",
    "- [**_load the code of knowledge-base.scm_**](#load-the-code-of-knowledge-base.scm)\n",
    "- [**_load the code of conditional-instantiation-meta-rule.scm_**](#load-the-code-of-conditional-instantiation-meta-rule.scm)\n",
    "- [**_load the code of fuzzy-conjunction-introduction-rule.scm_**](#load-the-code-of-fuzzy-conjunction-introduction-rule.scm)\n",
    "- [**_load the code of rule-base.scm_**](#load-the-code-of-rule-base.scm)\n",
    "\n",
    "For those practicing on the scheme shell don't follow these subsections, since they are the equivalent for [_**`[1]`**_](#on-scheme-shell-:). Instead jump directly to [**\"Back after loading the files\"**](#Back-after-loading-the-files) sub-section.\n"
   ]
  },
  {
   "cell_type": "markdown",
   "metadata": {},
   "source": [
    "# Practice\n",
    "The following example is a simplified version of *[frog](https://github.com/opencog/atomspace/tree/master/examples/rule-engine/frog)* and relies on some of its files. <br>\n",
    "So for practice on the scheme shell, open *terminal* and go under :\n",
    "\n",
    "> _$ cd atomspace/examples/rule-engine/frog_\n",
    "\n",
    "and fire up guile\n",
    "> _$ guile_\n",
    "\n",
    "then copy-paste the codes."
   ]
  },
  {
   "cell_type": "markdown",
   "metadata": {},
   "source": [
    "#### **_load required opencog modules_**\n",
    "set the logging level to _debug_ (will be handy to understand what the backward chainer does)\n"
   ]
  },
  {
   "cell_type": "code",
   "execution_count": 1,
   "metadata": {},
   "outputs": [
    {
     "data": {
      "text/plain": [
       "\"INFO\""
      ]
     },
     "execution_count": 1,
     "metadata": {},
     "output_type": "execute_result"
    }
   ],
   "source": [
    "(use-modules (ice-9 readline)) \n",
    "(activate-readline)\n",
    "(add-to-load-path \"/usr/local/share/opencog/scm\")\n",
    "(add-to-load-path \".\")\n",
    "(use-modules (opencog))\n",
    "(use-modules (opencog query))\n",
    "(use-modules (opencog exec))\n",
    "(use-modules (opencog logger))\n",
    "(cog-logger-set-level! \"debug\")"
   ]
  },
  {
   "cell_type": "markdown",
   "metadata": {},
   "source": [
    "In this example we have a black box for which we know there is something in it.<br>\n",
    "> Known facts :<br>\n",
    "- The thing in the box makes croaking sounds.\n",
    "- The thing in the box eats flies.<br>\n",
    "\n",
    "> Goal :<br>\n",
    "- Find whether the color of the thing in the black box is green.<br>\n",
    "\n",
    "> We have the following relations (rules) defined :<br>\n",
    "- If X croaks and X eats flies, then X is a frog.\n",
    "- If X is a frog, then X is green.<br>\n",
    "\n",
    "Let's say the thing in the black box is named _Fritz_ and from the above relations we need to deduce its color.<br>\n",
    "Now load the *rule-engine* module, as well as the *[knowledge-base](https://github.com/opencog/atomspace/blob/master/examples/rule-engine/frog/knowledge-base.scm)* and *[rule-base](https://github.com/opencog/atomspace/blob/master/examples/rule-engine/frog/rule-base.scm)*"
   ]
  },
  {
   "cell_type": "markdown",
   "metadata": {},
   "source": [
    "**_load the rule-engine module_**"
   ]
  },
  {
   "cell_type": "code",
   "execution_count": 3,
   "metadata": {},
   "outputs": [],
   "source": [
    "(use-modules (opencog rule-engine))"
   ]
  },
  {
   "cell_type": "markdown",
   "metadata": {},
   "source": [
    "### **_load the knowledge-base and the rule-base scripts_**"
   ]
  },
  {
   "cell_type": "markdown",
   "metadata": {},
   "source": [
    "#### on scheme shell :\n",
    "\n",
    "> _scheme@(guile-user)> (load \"knowledge-base.scm\")_\n",
    "\n",
    "> _scheme@(guile-user)> (load \"rule-base.scm\")_\n"
   ]
  },
  {
   "cell_type": "markdown",
   "metadata": {},
   "source": [
    "**Here are the file contents**<br>\n",
    "run the cells bellow to load the files into the notebook environment.<br> "
   ]
  },
  {
   "cell_type": "markdown",
   "metadata": {},
   "source": [
    "#### **_load the code of knowledge-base.scm_**"
   ]
  },
  {
   "cell_type": "code",
   "execution_count": 4,
   "metadata": {},
   "outputs": [
    {
     "data": {
      "text/plain": [
       "(EvaluationLink (stv 1 1)\n",
       "   (PredicateNode \"eats_flies\")\n",
       "   (ConceptNode \"Fritz\")\n",
       ")\n"
      ]
     },
     "execution_count": 4,
     "metadata": {},
     "output_type": "execute_result"
    }
   ],
   "source": [
    ";;;;;;;;;;;;;;;;;;;;\n",
    ";; Knowledge base ;;\n",
    ";;;;;;;;;;;;;;;;;;;;\n",
    "\n",
    "(ImplicationScope (stv 1.0 1.0)\n",
    "   (TypedVariable\n",
    "      (Variable \"$X\")\n",
    "      (Type \"ConceptNode\"))\n",
    "   (And\n",
    "      (Evaluation\n",
    "         (Predicate \"croaks\")\n",
    "         (Variable \"$X\"))\n",
    "      (Evaluation\n",
    "         (Predicate \"eats_flies\")\n",
    "         (Variable \"$X\")))\n",
    "   (Inheritance\n",
    "      (Variable \"$X\")\n",
    "      (Concept \"frog\")))\n",
    "\n",
    "(ImplicationScope (stv 1.0 1.0)\n",
    "   (TypedVariable\n",
    "      (Variable \"$X\")\n",
    "      (Type \"ConceptNode\"))\n",
    "   (And\n",
    "      (Evaluation\n",
    "         (Predicate \"chirps\")\n",
    "         (Variable \"$X\"))\n",
    "      (Evaluation\n",
    "         (Predicate \"sings\")\n",
    "         (Variable \"$X\")))\n",
    "   (Inheritance\n",
    "      (Variable \"$X\")\n",
    "      (Concept \"Canary\")))\n",
    "\n",
    "(ImplicationScope (stv 1.0 1.0)\n",
    "   (TypedVariable\n",
    "      (Variable \"$X\")\n",
    "      (Type \"ConceptNode\"))\n",
    "   (Inheritance\n",
    "      (Variable \"$X\")\n",
    "      (Concept \"frog\"))\n",
    "   (Inheritance\n",
    "      (Variable \"$X\")\n",
    "      (Concept \"green\")))\n",
    "\n",
    "(ImplicationScope (stv 1.0 1.0)\n",
    "   (TypedVariable\n",
    "      (Variable \"$X\")\n",
    "      (Type \"ConceptNode\"))\n",
    "   (Inheritance\n",
    "      (Variable \"$X\")\n",
    "      (Concept \"Canary\"))\n",
    "   (Inheritance\n",
    "      (Variable \"$X\")\n",
    "      (Concept \"yellow\")))\n",
    "\n",
    "(Evaluation (stv 1.0 1.0)\n",
    "   (Predicate \"croaks\")\n",
    "   (Concept \"Fritz\"))\n",
    "\n",
    "(Evaluation (stv 1.0 1.0)\n",
    "   (Predicate \"chirps\")\n",
    "   (Concept \"Tweety\"))\n",
    "\n",
    "(Inheritance (stv 1.0 1.0)\n",
    "   (Concept \"Tweety\")\n",
    "   (Concept \"yellow\"))\n",
    "\n",
    "(Evaluation (stv 1.0 1.0)\n",
    "   (Predicate \"eats_flies\")\n",
    "   (Concept \"Tweety\"))\n",
    "\n",
    "(Evaluation (stv 1.0 1.0)\n",
    "   (Predicate \"eats_flies\")\n",
    "   (Concept \"Fritz\"))"
   ]
  },
  {
   "cell_type": "markdown",
   "metadata": {},
   "source": [
    "**NOTE :** The following two are files, *conditional-instantiation-meta-rule.scm* and *fuzzy-conjunction-introduction-rule.scm*, which are required by *rule-base.scm*.<br> "
   ]
  },
  {
   "cell_type": "markdown",
   "metadata": {},
   "source": [
    "#### **_load the code of conditional-instantiation-meta-rule.scm_**"
   ]
  },
  {
   "cell_type": "code",
   "execution_count": 5,
   "metadata": {},
   "outputs": [
    {
     "data": {
      "text/plain": [
       "(DefineLink\n",
       "   (DefinedSchemaNode \"conditional-full-instantiation-meta-rule\")\n",
       "   (BindLink\n",
       "      (VariableList\n",
       "         (TypedVariableLink\n",
       "            (VariableNode \"$TyVs\")\n",
       "            (TypeChoice\n",
       "               (TypeNode \"TypedVariableLink\")\n",
       "               (TypeNode \"VariableList\")\n",
       "            )\n",
       "         )\n",
       "         (VariableNode \"$P\")\n",
       "         (VariableNode \"$Q\")\n",
       "      )\n",
       "      (AndLink\n",
       "         (EvaluationLink\n",
       "            (GroundedPredicateNode \"scm: true-enough\")\n",
       "            (QuoteLink\n",
       "               (ImplicationScopeLink\n",
       "                  (UnquoteLink\n",
       "                     (VariableNode \"$TyVs\")\n",
       "                  )\n",
       "                  (UnquoteLink\n",
       "                     (VariableNode \"$P\")\n",
       "                  )\n",
       "                  (UnquoteLink\n",
       "                     (VariableNode \"$Q\")\n",
       "                  )\n",
       "               )\n",
       "            )\n",
       "         )\n",
       "         (QuoteLink\n",
       "            (ImplicationScopeLink\n",
       "               (UnquoteLink\n",
       "                  (VariableNode \"$TyVs\")\n",
       "               )\n",
       "               (UnquoteLink\n",
       "                  (VariableNode \"$P\")\n",
       "               )\n",
       "               (UnquoteLink\n",
       "                  (VariableNode \"$Q\")\n",
       "               )\n",
       "            )\n",
       "         )\n",
       "      )\n",
       "      (QuoteLink\n",
       "         (BindLink\n",
       "            (UnquoteLink\n",
       "               (VariableNode \"$TyVs\")\n",
       "            )\n",
       "            (AndLink\n",
       "               (UnquoteLink\n",
       "                  (LocalQuoteLink\n",
       "                     (LocalQuoteLink\n",
       "                        (VariableNode \"$P\")\n",
       "                     )\n",
       "                  )\n",
       "               )\n",
       "               (EvaluationLink\n",
       "                  (GroundedPredicateNode \"scm: true-enough\")\n",
       "                  (UnquoteLink\n",
       "                     (VariableNode \"$P\")\n",
       "                  )\n",
       "               )\n",
       "            )\n",
       "            (ExecutionOutputLink\n",
       "               (GroundedSchemaNode \"scm: conditional-full-instantiation-formula\")\n",
       "               (UnquoteLink\n",
       "                  (ListLink\n",
       "                     (VariableNode \"$Q\")\n",
       "                     (QuoteLink\n",
       "                        (ImplicationScopeLink\n",
       "                           (UnquoteLink\n",
       "                              (VariableNode \"$TyVs\")\n",
       "                           )\n",
       "                           (UnquoteLink\n",
       "                              (VariableNode \"$P\")\n",
       "                           )\n",
       "                           (UnquoteLink\n",
       "                              (VariableNode \"$Q\")\n",
       "                           )\n",
       "                        )\n",
       "                     )\n",
       "                     (VariableNode \"$P\")\n",
       "                  )\n",
       "               )\n",
       "            )\n",
       "         )\n",
       "      )\n",
       "   )\n",
       ")\n"
      ]
     },
     "execution_count": 5,
     "metadata": {},
     "output_type": "execute_result"
    }
   ],
   "source": [
    ";; =======================================================================\n",
    ";; Conditional Instantiation Meta Rule\n",
    ";;\n",
    ";; ImplicationScopeLink\n",
    ";;    V\n",
    ";;    P\n",
    ";;    Q\n",
    ";; |-\n",
    ";;    T\n",
    ";;    P\n",
    ";;    |-\n",
    ";;    Q[V->T]\n",
    ";;\n",
    ";; where V is a variable or a list of variables, P is a condition, Q\n",
    ";; is the implicand, T is an atom (or a list of atoms) satisfying the\n",
    ";; V type constraints, and such that P[V->T], P where V has been\n",
    ";; subtituted by T has a meaningful TV, and Q[V->T] is Q where V has\n",
    ";; been substituted by T.\n",
    ";; -----------------------------------------------------------------------\n",
    "\n",
    "(use-modules (srfi srfi-1))\n",
    "\n",
    "(use-modules (opencog exec))\n",
    "(use-modules (opencog logger))\n",
    "\n",
    ";;;;;;;;;;;;;;;;;;;;;;;;;;;;;;;;;;;;;;;;;\n",
    ";; Implication full instantiation rule ;;\n",
    ";;;;;;;;;;;;;;;;;;;;;;;;;;;;;;;;;;;;;;;;;\n",
    "\n",
    "(define conditional-full-instantiation-meta-variables\n",
    "  (VariableList\n",
    "     (TypedVariable\n",
    "        (Variable \"$TyVs\")\n",
    "        (TypeChoice\n",
    "           (Type \"TypedVariableLink\")\n",
    "           (Type \"VariableList\")))\n",
    "     (Variable \"$P\")\n",
    "     (Variable \"$Q\")))\n",
    "\n",
    "(define conditional-full-instantiation-meta-body\n",
    "  (let* ((implication (Quote (ImplicationScope\n",
    "                         (Unquote (Variable \"$TyVs\"))\n",
    "                         (Unquote (Variable \"$P\"))\n",
    "                         (Unquote (Variable \"$Q\")))))\n",
    "         (precondition (Evaluation\n",
    "                         (GroundedPredicate \"scm: true-enough\")\n",
    "                         implication)))\n",
    "  (And\n",
    "    implication\n",
    "    precondition)))\n",
    "\n",
    ";; Here only the implicant is considered as premise. The variable(s)\n",
    ";; should as well so the backward chainer can consider them as\n",
    ";; targets, however that implies to lay them out explicitly, so for\n",
    ";; sake of simplicity they are ignored for now.\n",
    "(define conditional-full-instantiation-meta-rewrite\n",
    "  (let* ((TyVs (Variable \"$TyVs\"))\n",
    "         (P (Variable \"$P\"))\n",
    "         (Q (Variable \"$Q\"))\n",
    "         (implication (Quote (ImplicationScope\n",
    "                         (Unquote TyVs)\n",
    "                         (Unquote P)\n",
    "                         (Unquote Q)))))\n",
    "    (Quote (Bind\n",
    "      (Unquote TyVs)\n",
    "      (And\n",
    "        (Unquote (LocalQuote (LocalQuote P)))\n",
    "        (Evaluation (GroundedPredicate \"scm: true-enough\") (Unquote P)))\n",
    "      (ExecutionOutput\n",
    "        (GroundedSchema \"scm: conditional-full-instantiation-formula\")\n",
    "        (Unquote\n",
    "          (ListLink\n",
    "            Q\n",
    "            implication\n",
    "            P)))))))\n",
    "\n",
    "(define conditional-full-instantiation-meta-rule\n",
    "  (BindLink\n",
    "     conditional-full-instantiation-meta-variables\n",
    "     conditional-full-instantiation-meta-body\n",
    "     conditional-full-instantiation-meta-rewrite))\n",
    "\n",
    ";; Return the TV of the evaluation of `an` assuming that it is an\n",
    ";; AndLink, that is return the TV which is the the min over the\n",
    ";; strengths and confidences of its outgoings. Normally this would be\n",
    ";; handled by a rule but to simplify the unit test it is hardcored\n",
    ";; here.\n",
    "(define (conjunction-fuzzy-eval an)\n",
    "  (let* ((outg (cog-outgoing-set an))\n",
    "         (min-s-atom (min-element-by-key outg cog-stv-strength))\n",
    "         (min-c-atom (min-element-by-key outg cog-stv-confidence))\n",
    "         (min-s (cog-stv-strength min-s-atom))\n",
    "         (min-c (cog-stv-confidence min-s-atom)))\n",
    "    (stv min-s min-c)))\n",
    "\n",
    "(define (true-enough-bool a)\n",
    "  (let ((s (cog-stv-strength a)) (c (cog-stv-confidence a)))\n",
    "    (and (> s 0.5) (> c 0.5))))\n",
    "\n",
    "(define (true-enough a)\n",
    "  (bool->tv (true-enough-bool a)))\n",
    "\n",
    ";; Set (stv 1 1) on Q is Impl and P strength are both above 0.5 and\n",
    ";; their confidence is non null.\n",
    "(define (conditional-full-instantiation-formula Q Impl P)\n",
    "  ;; Evaluate Q\n",
    "  (if (and (true-enough-bool Impl) (true-enough-bool P))\n",
    "      (cog-set-tv! Q (stv 1 1))))\n",
    "\n",
    ";; Name the meta rule\n",
    "(define conditional-full-instantiation-meta-rule-name\n",
    "  (DefinedSchemaNode \"conditional-full-instantiation-meta-rule\"))\n",
    "(DefineLink conditional-full-instantiation-meta-rule-name\n",
    "  conditional-full-instantiation-meta-rule)\n"
   ]
  },
  {
   "cell_type": "markdown",
   "metadata": {},
   "source": [
    "#### **_load the code of fuzzy-conjunction-introduction-rule.scm_**"
   ]
  },
  {
   "cell_type": "code",
   "execution_count": 6,
   "metadata": {},
   "outputs": [
    {
     "data": {
      "text/plain": [
       "(DefineLink\n",
       "   (DefinedSchemaNode \"fuzzy-conjunction-introduction-2ary-rule\")\n",
       "   (BindLink\n",
       "      (VariableList\n",
       "         (TypedVariableLink\n",
       "            (VariableNode \"$X-0\")\n",
       "            (TypeChoice\n",
       "               (TypeNode \"EvaluationLink\")\n",
       "               (TypeNode \"InheritanceLink\")\n",
       "            )\n",
       "         )\n",
       "         (TypedVariableLink\n",
       "            (VariableNode \"$X-1\")\n",
       "            (TypeChoice\n",
       "               (TypeNode \"EvaluationLink\")\n",
       "               (TypeNode \"InheritanceLink\")\n",
       "            )\n",
       "         )\n",
       "      )\n",
       "      (AndLink\n",
       "         (VariableNode \"$X-0\")\n",
       "         (VariableNode \"$X-1\")\n",
       "      )\n",
       "      (ExecutionOutputLink\n",
       "         (GroundedSchemaNode \"scm: fuzzy-conjunction-introduction-formula\")\n",
       "         (ListLink\n",
       "            (AndLink\n",
       "               (VariableNode \"$X-0\")\n",
       "               (VariableNode \"$X-1\")\n",
       "            )\n",
       "            (SetLink\n",
       "               (VariableNode \"$X-0\")\n",
       "               (VariableNode \"$X-1\")\n",
       "            )\n",
       "         )\n",
       "      )\n",
       "   )\n",
       ")\n"
      ]
     },
     "execution_count": 6,
     "metadata": {},
     "output_type": "execute_result"
    }
   ],
   "source": [
    "; =============================================================================\n",
    "; Fuzzy conjunction introduction rule\n",
    ";\n",
    "; A1\n",
    "; ...\n",
    "; An\n",
    "; |-\n",
    "; AndLink\n",
    ";   A1\n",
    ";   ...\n",
    ";   An\n",
    ";\n",
    "; Where A1 to An are atoms with a fuzzy TV\n",
    "; -----------------------------------------------------------------------------\n",
    "\n",
    "(use-modules (opencog rule-engine))\n",
    "(use-modules (srfi srfi-1))\n",
    "\n",
    ";; Generate variable (Variable prefix + \"-\" + to_string(i))\n",
    "(define (gen-variable prefix i)\n",
    "  (Variable (string-append prefix \"-\" (number->string i))))\n",
    "\n",
    ";; Generate a list of variables (Variable prefix + \"-\" + to_string(n))\n",
    "(define (gen-variables prefix n)\n",
    "  (if (= n 0)\n",
    "      ;; Base case\n",
    "      '()\n",
    "      ;; Recursive case\n",
    "      (append (gen-variables prefix (- n 1))\n",
    "              (list (gen-variable prefix (- n 1))))))\n",
    "\n",
    ";; Generate a fuzzy conjunction introduction rule for an n-ary\n",
    ";; conjunction\n",
    "(define (gen-fuzzy-conjunction-introduction-rule nary)\n",
    "  (let* ((variables (gen-variables \"$X\" nary))\n",
    "         (EvaluationT (Type \"EvaluationLink\"))\n",
    "         (InheritanceT (Type \"InheritanceLink\"))\n",
    "         (type (TypeChoice EvaluationT InheritanceT))\n",
    "         (gen-typed-variable (lambda (x) (TypedVariable x type)))\n",
    "         (vardecl (VariableList (map gen-typed-variable variables)))\n",
    "         (pattern (And variables))\n",
    "         (rewrite (ExecutionOutput\n",
    "                    (GroundedSchema \"scm: fuzzy-conjunction-introduction-formula\")\n",
    "                    ;; We wrap the variables in Set because the order\n",
    "                    ;; doesn't matter and that way alpha-conversion\n",
    "                    ;; works better.\n",
    "                    (List (And variables) (Set variables)))))\n",
    "    (Bind\n",
    "      vardecl\n",
    "      pattern\n",
    "      rewrite)))\n",
    "\n",
    ";; Return true if all elements of the list are unique\n",
    "(define (is-set l)\n",
    "  (cond ((null? l) #t)\n",
    "        ((member (car l) (cdr l)) #f)\n",
    "        (else (is-set (cdr l)))))\n",
    "\n",
    ";; Check that they all are different, and have positive confidences\n",
    "(define (fuzzy-conjunction-introduction-precondition S)\n",
    "  (bool->tv (is-confident-enough-set (cog-outgoing-set S))))\n",
    "\n",
    "(define (is-confident-enough-set andees)\n",
    "  (let* ((confident-enough (lambda (A) (> (cog-stv-confidence A) 0))))\n",
    "    (and (is-set andees)\n",
    "         (every confident-enough andees))))\n",
    "\n",
    "(define (fuzzy-conjunction-introduction-formula A S)\n",
    "  (let* ((andees (cog-outgoing-set S))\n",
    "         (min-s-atom (min-element-by-key andees cog-stv-strength))\n",
    "         (min-c-atom (min-element-by-key andees cog-stv-confidence))\n",
    "         (min-s (cog-stv-strength min-s-atom))\n",
    "         (min-c (cog-stv-confidence min-c-atom)))\n",
    "    (if (is-confident-enough-set andees)       ; only introduce meaningful\n",
    "                                               ; conjunction of unique andees\n",
    "        (cog-set-tv! A (stv min-s min-c)))))\n",
    "\n",
    ";; Name the rules\n",
    "(define fuzzy-conjunction-introduction-2ary-rule\n",
    "  (gen-fuzzy-conjunction-introduction-rule 2))\n",
    "(define fuzzy-conjunction-introduction-2ary-rule-name\n",
    "  (DefinedSchema \"fuzzy-conjunction-introduction-2ary-rule\"))\n",
    "(DefineLink\n",
    "  fuzzy-conjunction-introduction-2ary-rule-name\n",
    "  fuzzy-conjunction-introduction-2ary-rule)\n"
   ]
  },
  {
   "cell_type": "markdown",
   "metadata": {},
   "source": [
    "#### **_load the code of rule-base.scm_**"
   ]
  },
  {
   "cell_type": "code",
   "execution_count": 7,
   "metadata": {},
   "outputs": [
    {
     "data": {
      "text/plain": [
       "(EvaluationLink (stv 0 1)\n",
       "   (PredicateNode \"URE:attention-allocation\")\n",
       "   (ConceptNode \"ci-rbs\")\n",
       ")\n"
      ]
     },
     "execution_count": 7,
     "metadata": {},
     "output_type": "execute_result"
    }
   ],
   "source": [
    ";;;;;;;;;;;;;;;\n",
    ";; Rule base ;;\n",
    ";;;;;;;;;;;;;;;\n",
    "(define ci-rbs (ConceptNode \"ci-rbs\"))\n",
    "(Inheritance ci-rbs (ConceptNode \"URE\"))\n",
    "\n",
    ";; Associate the rules to the rule base (with weights, their semantics\n",
    ";; is currently undefined, we might settled with probabilities but it's\n",
    ";; not sure)\n",
    "(MemberLink (stv 1 1)\n",
    "   conditional-full-instantiation-meta-rule-name\n",
    "   ci-rbs\n",
    ")\n",
    "(MemberLink (stv 1 1)\n",
    "   fuzzy-conjunction-introduction-2ary-rule-name\n",
    "   ci-rbs\n",
    ")\n",
    "\n",
    ";; termination criteria parameters\n",
    "(ExecutionLink\n",
    "   (SchemaNode \"URE:maximum-iterations\")\n",
    "   ci-rbs\n",
    "   (NumberNode \"20\")\n",
    ")\n",
    "\n",
    ";; Attention allocation (set the TV strength to 0 to disable it, 1 to\n",
    ";; enable it)\n",
    "(EvaluationLink (stv 0 1)\n",
    "   (PredicateNode \"URE:attention-allocation\")\n",
    "   ci-rbs\n",
    ")"
   ]
  },
  {
   "cell_type": "markdown",
   "metadata": {},
   "source": [
    "#### Back after loading the files"
   ]
  },
  {
   "cell_type": "markdown",
   "metadata": {},
   "source": [
    "In knowledge-base.scm. You may observe [ImplicationScopeLinks](https://wiki.opencog.org/w/ImplicationScopeLink) such as<br>\n",
    "> *(ImplicationScope (stv 1.0 1.0)\n",
    "   (TypedVariable\n",
    "      (Variable \"$X\")\n",
    "      (Type \"ConceptNode\"))\n",
    "   (And\n",
    "      (Evaluation\n",
    "         (Predicate \"croaks\")\n",
    "         (Variable \"$X\"))\n",
    "      (Evaluation\n",
    "        (Predicate \"eats_flies\")\n",
    "        (Variable \"$X\")))\n",
    "   (Inheritance\n",
    "      (Variable \"$X\")\n",
    "      (Concept \"frog\")))*<br><br>\n",
    "**encoding the relationship :**<br>\n",
    "If X croaks and X eats flies - Then X is a frog\n",
    "\n",
    "At the end of that same file, there are facts regarding *Fritz* and other animals as they relate to attributes using [EvaluationLinks](https://wiki.opencog.org/w/EvaluationLink).\n",
    "You may want to take a look at *rule-base.scm* which loads rules, associate them to a rule-base (called *ci-rbs*) and set some *URE* parameters (such as *URE:maximum-iterations*). Explore the rule files *[conditional-instantiation-meta-rule.scm](https://github.com/opencog/atomspace/blob/master/examples/rule-engine/meta-rules/conditional-instantiation-meta-rule.scm)* and *[fuzzy-conjunction-introduction-rule.scm](https://github.com/opencog/atomspace/blob/master/examples/rule-engine/rules/fuzzy-conjunction-introduction-rule.scm)* as well. Don't worry if you don't understand it, just read the comments on the top of the files that explains what the rules are doing.<br>\n",
    "What the backward chainer is gonna do is use these rules over the knowledge base to find out what is *green*."
   ]
  },
  {
   "cell_type": "markdown",
   "metadata": {},
   "source": [
    "We are going to call the backward chainer but let's first define the target, meaning we want atoms that have an inheritance relationship with the *ConceptNode \"green\"*."
   ]
  },
  {
   "cell_type": "code",
   "execution_count": 8,
   "metadata": {
    "collapsed": true
   },
   "outputs": [],
   "source": [
    ";define target, which is \"green\" in our case\n",
    "(define target\n",
    "  (InheritanceLink (VariableNode \"$what\") (ConceptNode \"green\"))\n",
    ")"
   ]
  },
  {
   "cell_type": "markdown",
   "metadata": {},
   "source": [
    "To simplify the life of the backward chainer and avoid nonsensical answers (just as the target itself), let's restrict the type of the variable (VariableNode \"$what\")"
   ]
  },
  {
   "cell_type": "code",
   "execution_count": 9,
   "metadata": {
    "collapsed": true
   },
   "outputs": [],
   "source": [
    ";restrict the type of the variable (VariableNode \"$what\") to ConceptedNode type\n",
    "(define vardecl\n",
    "  (TypedVariable (VariableNode \"$what\") (TypeNode \"ConceptNode\"))\n",
    ")"
   ]
  },
  {
   "cell_type": "code",
   "execution_count": 10,
   "metadata": {},
   "outputs": [
    {
     "data": {
      "text/plain": [
       "(SetLink\n",
       "   (InheritanceLink (stv 1 1)\n",
       "      (ConceptNode \"Fritz\")\n",
       "      (ConceptNode \"green\")\n",
       "   )\n",
       ")\n"
      ]
     },
     "execution_count": 10,
     "metadata": {},
     "output_type": "execute_result"
    }
   ],
   "source": [
    ";calling the backward chainer\n",
    "(cog-bc ci-rbs target #:vardecl vardecl)"
   ]
  },
  {
   "cell_type": "markdown",
   "metadata": {},
   "source": [
    "**Output :** <br>\n",
    "(SetLink <br>\n",
    "   (InheritanceLink (stv 1 1)<br>\n",
    "      (ConceptNode \"Fritz\")<br>\n",
    "      (ConceptNode \"green\")<br>\n",
    "   )<br>\n",
    ")\n",
    "\n",
    "If you wish to understand in more depth how the backward chainer came up with the answer, open the log file *opencog.log* under the same directory. Search the messages logged by the URE components (containing the string \"[URE]\") and try to make sense of what you see. In particular you may find that the inference trees evolved by the backward chainer are logged right after the message with inference tree. For instance the inference tree corresponding to the solution is :\n",
    "\n",
    "                          [12543950459016998847][1] [15852562040974555944][1]\n",
    "                          ======fuzzy-conjunction-introduction-formula=======\n",
    "             [14398977004689637744][1] [15383395919935236078][1]\n",
    "             ------conditional-full-instantiation-formula-------\n",
    "[15603332628456784367][1] [13829542973489658864][1]<br>\n",
    "------conditional-full-instantiation-formula-------<br>\n",
    "             [13520875333812722983][1]<br>\n",
    "where the numbers corresponds to the UUIDs of the atoms, target, intermediary targets and premises, involved with the inference. If you search these UUIDs you can get the corresponding atoms in the log file."
   ]
  },
  {
   "cell_type": "markdown",
   "metadata": {},
   "source": [
    "* **If you dear reader think of some good quiz questions, add them to the discussion branch of this wiki page**"
   ]
  }
 ],
 "metadata": {
  "kernelspec": {
   "display_name": "Guile",
   "language": "scheme",
   "name": "guile"
  },
  "language_info": {
   "codemirror_mode": "scheme",
   "file_extension": ".scm",
   "mimetype": "application/x-scheme",
   "name": "guile",
   "pygments_lexer": "scheme",
   "version": "2.0.0"
  }
 },
 "nbformat": 4,
 "nbformat_minor": 2
}
