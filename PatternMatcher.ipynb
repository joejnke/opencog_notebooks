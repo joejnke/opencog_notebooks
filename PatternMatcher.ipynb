{
 "cells": [
  {
   "cell_type": "markdown",
   "metadata": {},
   "source": [
    "# Theory\n",
    "\n",
    "In the last lesson we added [Atoms](https://wiki.opencog.org/w/Atom) to the [Atomspace](https://wiki.opencog.org/w/Atomspace) using the scheme shell. We also used a function named cog-execute! to use the Atoms to add two numbers. In this lesson, we will look at some other functions to interact with Atomspace.\n",
    "\n",
    "What is the Pattern Matcher(PM)?\n",
    "The [pattern matcher](https://wiki.opencog.org/w/Pattern_matcher) is the query engine that is used to find Atoms in Atomspace that fit into a certain template or pattern. The PM can be used from c++ or scheme. Here we will use it from scheme. A pattern here means a [hypergraph](https://wiki.opencog.org/w/Glossary#H) consisting of Nodes and Links of several types. One type of Node is the [VariableNode](https://wiki.opencog.org/w/VariableNode). If the pattern has some VariableNodes then it can be 'grounded'. [Grounding](https://wiki.opencog.org/w/Special:Search%26fulltext%3DSearch%26search%3DSymbol+Grounding) means looking for other patterns in the Atomspace that match exactly with the pattern to be grounded except at the VariableNodes. One can think of grounding like filling the blanks in a sentence by looking for similar sentences in a passage.\n",
    "\n",
    "The scheme interface to the PM is implemented by the functions: cog-satisfy, cog-satisfying-set and cog-bind  [see The Simplified API](https://wiki.opencog.org/w/Pattern_matching#The_Simplified_API). Both cog-satisfy and cog-satisfying-set can be used to ground patterns specified inside [SatisfactionLinks](https://wiki.opencog.org/w/SatisfactionLink_and_BindLink). The difference between cog-satisfy and cog-satisfying-set is that the former returns [TruthValues](https://wiki.opencog.org/w/TruthValue) and the later returns Atoms. We will look at what these things mean in following examples.\n",
    "\n",
    "The cog-bind function is used to rewrite the hypergraphs in the Atomspace. The patterns are specified for cog-bind function inside a [BindLink](https://wiki.opencog.org/w/BindLink).Then this function is used to look for possible groundings of a pattern and add new hypergraphs into the Atomspace based on those findings.\n",
    "\n",
    "# Practice\n",
    "\n",
    "A Background in Scheme\n",
    "\n",
    "Scheme is a dialect of Lisp; the scheme shell allows scheme code to manipulate the contents of an OpenCog AtomSpace.\n",
    "\n",
    "If you don't have a background in Scheme, it might be worth going through the [Scheme documentation](https://wiki.opencog.org/w/Scheme)."
   ]
  },
  {
   "cell_type": "markdown",
   "metadata": {},
   "source": [
    "# Initial setup\n",
    "We need to add some Atoms in the Atomspace so that we can apply the above mentioned functions. \n",
    "\n",
    "Make a file helloPM.scm in your home directory and copy-past the following blocks of code.\n",
    "\n",
    "You can also run the codes inside the notebook, if you have installed [Guile kernel](https://github.com/jerry40/guile-kernel), rather than copy pasting."
   ]
  },
  {
   "cell_type": "code",
   "execution_count": 13,
   "metadata": {},
   "outputs": [
    {
     "data": {
      "text/plain": [
       "#<unspecified>"
      ]
     },
     "execution_count": 13,
     "metadata": {},
     "output_type": "execute_result"
    }
   ],
   "source": [
    "(use-modules (ice-9 readline)) \n",
    "(activate-readline)\n",
    "(add-to-load-path \"/usr/local/share/opencog/scm\")\n",
    "(add-to-load-path \".\")\n",
    "(use-modules (opencog))\n",
    "(use-modules (opencog query))\n",
    "(use-modules (opencog exec))"
   ]
  },
  {
   "cell_type": "code",
   "execution_count": 14,
   "metadata": {},
   "outputs": [
    {
     "data": {
      "text/plain": [
       "-----------------------------------------------------------------------\n",
       "\n",
       "(InheritanceLink\n",
       "   (ConceptNode \"cat\")\n",
       "   (ConceptNode \"Animal\")\n",
       ")\n"
      ]
     },
     "execution_count": 14,
     "metadata": {},
     "output_type": "execute_result"
    }
   ],
   "source": [
    "(display \"-----------------------------------------------------------------------\")\n",
    "(newline)(newline)\n",
    ";Utility function to create InheritanceLinks\n",
    ";typedef ==> function name\n",
    ";type ==> atom to be inherited\n",
    ";instance ==> atom that inherit the \"type\" atom\n",
    "(define (typedef type instance) \n",
    "\t(InheritanceLink \n",
    "\t\t(ConceptNode instance) \n",
    "\t\ttype\n",
    "\t)\n",
    ")\n",
    "\n",
    ";Types of entities\n",
    "(define color \n",
    "\t(ConceptNode \"Color\")\n",
    ")\n",
    "\n",
    "(define animal\n",
    "\t(ConceptNode \"Animal\")\n",
    ")\n",
    "\n",
    ";initialize atoms that inherit from the above entities.\n",
    ";these new atoms are also called instances of those entities.\n",
    ";instances of color\n",
    "(typedef color \"Blue\")\n",
    "(typedef color \"Green\")\n",
    "(typedef color \"Red\")\n",
    ";instances of animal\n",
    "(typedef animal \"fish\")\n",
    "(typedef animal \"dog\")\n",
    "(typedef animal \"cat\")"
   ]
  },
  {
   "cell_type": "markdown",
   "metadata": {},
   "source": [
    "Run the script on the bash shell:\n",
    "\n",
    "``$ guile helloPM.scm``\n",
    "\n",
    "Or \n",
    "\n",
    "``$ guile``\n",
    "\n",
    "``scheme@(guile-user)> (load \"helloPM.scm\")``"
   ]
  },
  {
   "cell_type": "markdown",
   "metadata": {},
   "source": [
    "Now we can start with the Pattern Matcher (PM) functions.\n",
    "\n",
    "SatisfactionLink: cog-satisfy and cog-satisfying-set\n",
    "\n",
    "As said earlier, patterns can be grounded if they have VariableNodes - we use the cog-satisfy function to ground patterns. So, we will first specify a pattern and then ground it using the cog-satisfy function.\n",
    "\n",
    "Specify a pattern: Suppose we want to find out what colors there are in the Atomspace. For this we can specify a pattern as follows (all of these snippets are to be appended to the end of helloPM.scm.)"
   ]
  },
  {
   "cell_type": "code",
   "execution_count": 15,
   "metadata": {},
   "outputs": [
    {
     "data": {
      "text/plain": [
       "#<unspecified>"
      ]
     },
     "execution_count": 15,
     "metadata": {},
     "output_type": "execute_result"
    }
   ],
   "source": [
    ";Define a pattern that is satisfiable by colors\n",
    "(define colornode\n",
    "\t(GetLink\n",
    "\t\t;Declare varibales [optional]\n",
    "\t\t(VariableNode \"$color\")\n",
    "\t\t;The pattern that the variable must satisfy\n",
    "\t\t(InheritanceLink\n",
    "\t\t\t(VariableNode \"$color\")\n",
    "\t\t\t(ConceptNode \"Color\")\n",
    "\t\t)\n",
    "\t)\n",
    ")"
   ]
  },
  {
   "cell_type": "markdown",
   "metadata": {},
   "source": [
    "Ground the pattern: Now, we can look for all Atoms in the Atomspace that can be substituted in place of (VariableNode \"$color\") in the pattern above. All such atoms must be linked to the (ConceptNode \"Color\")(i.e the atoms must inherit from the color entity) using an InheritanceLink so that they can be valid matches. \n",
    "\n",
    "Lets call the two functions of this section to find such atoms."
   ]
  },
  {
   "cell_type": "code",
   "execution_count": 16,
   "metadata": {},
   "outputs": [
    {
     "data": {
      "text/plain": [
       "(stv 1.000000 1.000000)\n",
       "#<unspecified>"
      ]
     },
     "execution_count": 16,
     "metadata": {},
     "output_type": "execute_result"
    }
   ],
   "source": [
    ";ground the pattern using cog-satisfy\n",
    "(display (cog-satisfy colornode))(newline)"
   ]
  },
  {
   "cell_type": "markdown",
   "metadata": {},
   "source": [
    "The result of running cog-satisfy is a TruthValue. It is printed to the screen as (stv 1.000000 1.000000). This means the atoms that satisfied the pattern were found.\n"
   ]
  },
  {
   "cell_type": "code",
   "execution_count": 17,
   "metadata": {},
   "outputs": [
    {
     "data": {
      "text/plain": [
       "Obsolete! Do not use cog-satisfying-set, use cog-execute! insead.\n",
       "(SetLink\n",
       "   (ConceptNode \"Blue\")\n",
       "   (ConceptNode \"Red\")\n",
       "   (ConceptNode \"Green\")\n",
       ")\n",
       "\n",
       "#<unspecified>"
      ]
     },
     "execution_count": 17,
     "metadata": {},
     "output_type": "execute_result"
    }
   ],
   "source": [
    ";Ground the pattern using cog-satisfying-set\n",
    "(display (cog-satisfying-set colornode))(newline)"
   ]
  },
  {
   "cell_type": "markdown",
   "metadata": {},
   "source": [
    "The result of running cog-satisfying-set will be a SetLink, that is connecting all Atoms that matched the pattern. \n",
    "\n",
    "This will be printed to the screen as:\n",
    "\n",
    "(SetLink\n",
    "   (ConceptNode \"Blue\")\n",
    "   (ConceptNode \"Green\")\n",
    "   (ConceptNode \"Red\")\n",
    ")\n"
   ]
  },
  {
   "cell_type": "markdown",
   "metadata": {},
   "source": [
    "[BindLink](https://wiki.opencog.org/w/BindLink): cog-bind\n",
    "\n",
    "The cog-bind function can be used to deliver graph rewrite queries to Atomspace. This is accomplished in conjunction with BindLink. Let us look at an example.\n",
    "\n",
    "What we are doing here is defining a graph-rewrite called rewrite (not that imaginative I know). The query looks for nodes of type Animal, and then label these nodes as pets. Code:"
   ]
  },
  {
   "cell_type": "code",
   "execution_count": 18,
   "metadata": {},
   "outputs": [
    {
     "data": {
      "text/plain": [
       "#<unspecified>"
      ]
     },
     "execution_count": 18,
     "metadata": {},
     "output_type": "execute_result"
    }
   ],
   "source": [
    "(define rewrite \n",
    "\t(BindLink\n",
    "\t\t;Declare the variables [optional]\n",
    "\t\t(VariableNode \"$denizen\")\n",
    "\t\t;Declare the pattern used to ground the variables\n",
    "\t\t(InheritanceLink\n",
    "\t\t\t(VariableNode \"$denizen\")\n",
    "\t\t\t(ConceptNode \"Animal\")\n",
    "\t\t)\n",
    "\t\t;If a match is found for the pattern then we want\n",
    "\t\t;to add the following hypergraph to the Atomspace\n",
    "\t\t(InheritanceLink\n",
    "\t\t\t(VariableNode \"$denizen\")\n",
    "\t\t\t(ConceptNode \"Pet\")\n",
    "\t\t)\n",
    "\t)\n",
    ")"
   ]
  },
  {
   "cell_type": "markdown",
   "metadata": {},
   "source": [
    "Now we execute the graph-rewrite query (unimaginatively called 'rewrite') using cog-bind. \n",
    "\n",
    "Code: (display (cog-bind rewrite))\n",
    "\n",
    "The output of this code will be:\n",
    "\n",
    "(SetLink\n",
    "   (InheritanceLink\n",
    "      (ConceptNode \"fish\")\n",
    "      (ConceptNode \"Pet\")\n",
    "   )\n",
    "   (InheritanceLink\n",
    "      (ConceptNode \"dog\")\n",
    "      (ConceptNode \"Pet\")\n",
    "   )\n",
    "   (InheritanceLink\n",
    "      (ConceptNode \"cat\")\n",
    "      (ConceptNode \"Pet\")\n",
    "   )\n",
    ")"
   ]
  },
  {
   "cell_type": "code",
   "execution_count": 19,
   "metadata": {},
   "outputs": [
    {
     "data": {
      "text/plain": [
       "Obsolete! Do not use cog-bind, use cog-execute! insead.\n",
       "(SetLink\n",
       "   (InheritanceLink\n",
       "      (ConceptNode \"fish\")\n",
       "      (ConceptNode \"Pet\")\n",
       "   )\n",
       "   (InheritanceLink\n",
       "      (ConceptNode \"cat\")\n",
       "      (ConceptNode \"Pet\")\n",
       "   )\n",
       "   (InheritanceLink\n",
       "      (ConceptNode \"dog\")\n",
       "      (ConceptNode \"Pet\")\n",
       "   )\n",
       ")\n",
       "#<unspecified>"
      ]
     },
     "execution_count": 19,
     "metadata": {},
     "output_type": "execute_result"
    }
   ],
   "source": [
    " (display (cog-bind rewrite))"
   ]
  },
  {
   "cell_type": "markdown",
   "metadata": {},
   "source": [
    "Now, you can use another pattern and the cog-satisfying-set function to check that the Pet nodes are indeed added in the Atomspace. This will be done just like we did it for the colors above.\n",
    "\n",
    "[GetLink](https://wiki.opencog.org/w/GetLink): cog-satisfying-set and cog-execute!\n",
    "\n",
    "The GetLink is just like the SatisfactionLink, except that it can also be executed with the cog-execute! function. Let us use SatisfactionLink (with cog-satisfying-set) and GetLink (with both cog-satisying-set and cog-execute!) to find the pets in the Atomspace."
   ]
  },
  {
   "cell_type": "code",
   "execution_count": 23,
   "metadata": {},
   "outputs": [
    {
     "data": {
      "text/plain": [
       "SatisfactionLink with cog-satisfying-set\n",
       "Obsolete! Do not use cog-satisfying-set, use cog-execute! insead.\n",
       "(SetLink\n",
       "   (ConceptNode \"cat\")\n",
       "   (ConceptNode \"dog\")\n",
       "   (ConceptNode \"fish\")\n",
       ")\n",
       "GetLink with cog-satisfying-set\n",
       "Obsolete! Do not use cog-satisfying-set, use cog-execute! insead.\n",
       "(SetLink\n",
       "   (ConceptNode \"cat\")\n",
       "   (ConceptNode \"dog\")\n",
       "   (ConceptNode \"fish\")\n",
       ")\n",
       "GetLink with cog-execute!\n",
       "(SetLink\n",
       "   (ConceptNode \"cat\")\n",
       "   (ConceptNode \"dog\")\n",
       "   (ConceptNode \"fish\")\n",
       ")\n",
       "#<unspecified>"
      ]
     },
     "execution_count": 23,
     "metadata": {},
     "output_type": "execute_result"
    }
   ],
   "source": [
    ";Get the list of pets in the Atomspace\n",
    "(define petnode\n",
    "\t(GetLink\n",
    "\t\t;Declare varibales\n",
    "\t\t;This is how you specify that the VariableNode \"$animal\"\n",
    "\t\t;should only be grounded by a ConceptNode. We are constraining\n",
    "\t\t;the type of the VariableNode to a ConceptNode.\n",
    "\t\t(TypedVariableLink\n",
    "\t\t\t(VariableNode \"$animal\")\n",
    "\t\t\t(TypeNode \"ConceptNode\")\n",
    "\t\t)\n",
    "\t\t;The pattern that the variable must satisfy\n",
    "\t\t(InheritanceLink\n",
    "\t\t\t(VariableNode \"$animal\")\n",
    "\t\t\t(ConceptNode \"Pet\")\n",
    "\t\t)\n",
    "\t)\n",
    ")\n",
    "(display \"SatisfactionLink with cog-satisfying-set\")(newline)\n",
    "(display (cog-satisfying-set petnode))\n",
    "\n",
    ";GetLink is just like the SatisfactionLink except that it can also\n",
    ";be executed using cog-execute\n",
    "(define executablepetnode\n",
    "\t(GetLink\n",
    "\t\t;Declare varibales [optional]\n",
    "\t\t(TypedVariableLink\n",
    "\t\t\t(VariableNode \"$animal\")\n",
    "\t\t\t(TypeNode \"ConceptNode\")\n",
    "\t\t)\n",
    "\t\t;The pattern that the variable must satisfy\n",
    "\t\t(InheritanceLink\n",
    "\t\t\t(VariableNode \"$animal\")\n",
    "\t\t\t(ConceptNode \"Pet\")\n",
    "\t\t)\n",
    "\t)\n",
    ")\n",
    "(display \"GetLink with cog-satisfying-set\")(newline)\n",
    "(display (cog-satisfying-set executablepetnode))\n",
    "(display \"GetLink with cog-execute!\")(newline)\n",
    "(display (cog-execute! executablepetnode))"
   ]
  },
  {
   "cell_type": "markdown",
   "metadata": {},
   "source": [
    "[PutLink](https://wiki.opencog.org/w/PutLink): cog-execute!\n",
    "\n",
    "PutLink provides a way to execute write queries in Atomspace using the cog-execute! function. This is the second method to execute write queries after the BindLink method. You can obviously directly write Nodes and Links into Atomspace as we did in the Initial setup section of this chapter. Using the PutLink enables the use of VariableNodes. First we will look at how PutLink can be used to write hypergraphs into Atomspace and then we will see how we can combine it with GetLink.\n",
    "\n",
    "Writing new nodes using PutLink: We specify a pattern in the PutLink that is to be written to Atomspace, and we also provide a list of VariableNodes that are to be used to ground the pattern before it is written."
   ]
  },
  {
   "cell_type": "code",
   "execution_count": 24,
   "metadata": {},
   "outputs": [
    {
     "data": {
      "text/plain": [
       "(SetLink\n",
       "   (InheritanceLink\n",
       "      (ConceptNode \"Blue\")\n",
       "      (ConceptNode \"PrimaryColor\")\n",
       "   )\n",
       "   (InheritanceLink\n",
       "      (ConceptNode \"Green\")\n",
       "      (ConceptNode \"PrimaryColor\")\n",
       "   )\n",
       "   (InheritanceLink\n",
       "      (ConceptNode \"Red\")\n",
       "      (ConceptNode \"PrimaryColor\")\n",
       "   )\n",
       ")\n",
       "(SetLink\n",
       "   (ConceptNode \"Blue\")\n",
       "   (ConceptNode \"Red\")\n",
       "   (ConceptNode \"Green\")\n",
       ")\n",
       "#<unspecified>"
      ]
     },
     "execution_count": 24,
     "metadata": {},
     "output_type": "execute_result"
    }
   ],
   "source": [
    ";Write with PutLink\n",
    "(define writequery\n",
    "\t(PutLink\n",
    "                ;The pattern to write into Atomspace\n",
    "\t\t(InheritanceLink\n",
    "\t\t\t(VariableNode \"$x\")\n",
    "\t\t\t(ConceptNode \"PrimaryColor\")\n",
    "\t\t)\n",
    "                ;The nodes used to ground the pattern    \n",
    "\t\t(SetLink\n",
    "\t\t\t(ConceptNode \"Red\")\n",
    "\t\t\t(ConceptNode \"Green\")\n",
    "\t\t\t(ConceptNode \"Blue\")\n",
    "\t\t)\n",
    "\t)\n",
    ")\n",
    "(display (cog-execute! writequery))\n",
    "\n",
    ";Check that the node was written\n",
    "(define primarycolors\n",
    "\t(GetLink\n",
    "\t\t(TypedVariableLink\n",
    "\t\t\t(VariableNode \"$color\")\n",
    "\t\t\t(TypeNode \"ConceptNode\")\n",
    "\t\t)\n",
    "\t\t;The pattern that the variable must satisfy\n",
    "\t\t(InheritanceLink\n",
    "\t\t\t(VariableNode \"$color\")\n",
    "\t\t\t(ConceptNode \"PrimaryColor\")\n",
    "\t\t)\n",
    "\t)\n",
    ")\n",
    "(display (cog-execute! primarycolors))"
   ]
  },
  {
   "cell_type": "markdown",
   "metadata": {},
   "source": [
    "You would see the following output, meaning that the primary color was written to the Atomspace.\n",
    "\n",
    "(SetLink\n",
    "   (ConceptNode \"Blue\")\n",
    "   (ConceptNode \"Red\")\n",
    "   (ConceptNode \"Green\")\n",
    ")"
   ]
  },
  {
   "cell_type": "markdown",
   "metadata": {},
   "source": [
    "Combining with GetLink: Now we use GetLink to get the Nodes that are to be used to ground the pattern in PutLink from the Atomspace. Used this way, the writequery is equivalent to those provided by BindLink."
   ]
  },
  {
   "cell_type": "code",
   "execution_count": 25,
   "metadata": {},
   "outputs": [
    {
     "data": {
      "text/plain": [
       "(SetLink\n",
       "   (InheritanceLink\n",
       "      (ConceptNode \"Blue\")\n",
       "      (ConceptNode \"PrimaryColor\")\n",
       "   )\n",
       "   (InheritanceLink\n",
       "      (ConceptNode \"Green\")\n",
       "      (ConceptNode \"PrimaryColor\")\n",
       "   )\n",
       "   (InheritanceLink\n",
       "      (ConceptNode \"Red\")\n",
       "      (ConceptNode \"PrimaryColor\")\n",
       "   )\n",
       ")\n",
       "(SetLink\n",
       "   (ConceptNode \"Blue\")\n",
       "   (ConceptNode \"Red\")\n",
       "   (ConceptNode \"Green\")\n",
       ")\n",
       "#<unspecified>"
      ]
     },
     "execution_count": 25,
     "metadata": {},
     "output_type": "execute_result"
    }
   ],
   "source": [
    ";Combining PutLink and GetLink together\n",
    "(define writequery\n",
    "\t(PutLink\n",
    "\t\t;The pattern to be written to Atomspace\n",
    "\t\t(InheritanceLink\n",
    "\t\t\t(VariableNode \"$x\")\n",
    "\t\t\t(ConceptNode \"PrimaryColor\")\n",
    "\t\t)\n",
    "\t\t;The GetLink to search the Atomspace for grounding nodes\n",
    "\t\t;NOTE that GetLink returns a SetLink\n",
    "\t\t(GetLink\n",
    "\t\t\t;Variable declaration\n",
    "\t\t\t(TypedVariableLink\n",
    "\t\t\t\t(VariableNode \"$color\")\n",
    "\t\t\t\t(TypeNode \"ConceptNode\")\n",
    "\t\t\t)\n",
    "\t\t\t;Pattern\n",
    "\t\t\t(InheritanceLink\n",
    "\t\t\t\t(VariableNode \"$color\")\n",
    "\t\t\t\t(ConceptNode \"Color\")\n",
    "\t\t\t)\n",
    "\t\t)\n",
    "\t)\n",
    ")\n",
    "(display (cog-execute! writequery))\n",
    "\n",
    ";Check that the node was written\n",
    "(define primarycolors\n",
    "\t(GetLink\n",
    "\t\t(TypedVariableLink\n",
    "\t\t\t(VariableNode \"$color\")\n",
    "\t\t\t(TypeNode \"ConceptNode\")\n",
    "\t\t)\n",
    "\t\t;The pattern that the variable must satisfy\n",
    "\t\t(InheritanceLink\n",
    "\t\t\t(VariableNode \"$color\")\n",
    "\t\t\t(ConceptNode \"PrimaryColor\")\n",
    "\t\t)\n",
    "\t)\n",
    ")\n",
    "(display (cog-execute! primarycolors))"
   ]
  },
  {
   "cell_type": "markdown",
   "metadata": {},
   "source": [
    "You should now see the output:\n",
    "\n",
    "(SetLink\n",
    "   (ConceptNode \"Blue\")\n",
    "   (ConceptNode \"Red\")\n",
    "   (ConceptNode \"Green\")\n",
    ")"
   ]
  },
  {
   "cell_type": "markdown",
   "metadata": {},
   "source": [
    "[ChoiceLink](https://wiki.opencog.org/w/ChoiceLink), [TypeChoice](https://wiki.opencog.org/w/TypeChoice)\n",
    "\n",
    "ChoiceLink is unlike the others above. This cannot help to execute any queries on its own. The use of ChoiceLink is to create complex patterns for grounding. The use of TypeChoice is similar. Let us look at an example."
   ]
  },
  {
   "cell_type": "code",
   "execution_count": 26,
   "metadata": {},
   "outputs": [
    {
     "data": {
      "text/plain": [
       "All colors\n",
       "(SetLink\n",
       "   (VariableNode \"$x\")\n",
       "   (VariableNode \"$color\")\n",
       "   (ConceptNode \"Blue\")\n",
       "   (ConceptNode \"Red\")\n",
       "   (ConceptNode \"Green\")\n",
       ")\n",
       "#<unspecified>"
      ]
     },
     "execution_count": 26,
     "metadata": {},
     "output_type": "execute_result"
    }
   ],
   "source": [
    ";Find all nodes that are either primarycolors or colors\n",
    "(define getcolors\n",
    "\t(GetLink\n",
    "\t\t;Variables\n",
    "\t\t(TypedVariableLink\n",
    "\t\t\t(VariableNode \"$obj\")\n",
    "\t\t\t;The TypeChoice link can be used to constrain the\n",
    "\t\t\t;type of a node to two or more types.\n",
    "\t\t\t(TypeChoice\n",
    "\t\t\t\t(TypeNode \"VariableNode\")\n",
    "\t\t\t\t(TypeNode \"ConceptNode\")\n",
    "\t\t\t)\n",
    "\t\t)\n",
    "\t\t;Pattern: Nodes satisfying any of the choices of patterns\n",
    "\t\t;will be returned\n",
    "\t\t(ChoiceLink\n",
    "\t\t\t;Choice1\n",
    "\t\t\t(InheritanceLink \n",
    "\t\t\t\t(VariableNode \"$obj\")\n",
    "\t\t\t\t(ConceptNode \"Color\")\n",
    "\t\t\t)\n",
    "\t\t\t;Choice2\n",
    "\t\t\t(InheritanceLink\n",
    "\t\t\t\t(VariableNode \"$obj\")\n",
    "\t\t\t\t(ConceptNode \"PrimaryColor\")\n",
    "\t\t\t)\n",
    "\t\t)\n",
    "\t)\n",
    ")\n",
    "(display \"All colors\\n\")\n",
    "(display (cog-execute! getcolors))"
   ]
  },
  {
   "cell_type": "markdown",
   "metadata": {},
   "source": [
    "Reading this snippet may give the impression that the ChoiceLink is like the logical OR for patterns. This is not the case. The logical OR operator for building groundable patterns is provided through OrLink."
   ]
  },
  {
   "cell_type": "code",
   "execution_count": null,
   "metadata": {
    "collapsed": true
   },
   "outputs": [],
   "source": []
  }
 ],
 "metadata": {
  "kernelspec": {
   "display_name": "Guile",
   "language": "scheme",
   "name": "guile"
  },
  "language_info": {
   "codemirror_mode": "scheme",
   "file_extension": ".scm",
   "mimetype": "application/x-scheme",
   "name": "guile",
   "pygments_lexer": "scheme",
   "version": "2.0.0"
  }
 },
 "nbformat": 4,
 "nbformat_minor": 2
}
