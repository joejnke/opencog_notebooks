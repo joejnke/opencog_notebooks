{
 "cells": [
  {
   "cell_type": "markdown",
   "metadata": {},
   "source": [
    "# Theory\n",
    "> - [OpenCog shell](https://wiki.opencog.org/w/OpenCog_shell) basics\n",
    "> - [Scheme shell](https://wiki.opencog.org/w/Scheme) basics\n",
    "> - The basic ideas about Atoms from [OpenCog Basics](https://wiki.opencog.org/w/Getting_Started#OpenCog_basics)\n",
    "\n",
    "The links above provide detailed descriptions of all topics in this chapter. What follows is a severely restricted selection from these pages. One should go back and explore those links to gain a deeper understanding of the topics introduced here.\n",
    "\n",
    "### Atomspace\n",
    "[*Atomspace*](https://wiki.opencog.org/w/Atomspace) is a [Knowledge Representation (KR)](http://en.wikipedia.org/wiki/Knowledge_representation_and_reasoning) database and the associated query engine that is used to manipulate the data it stores. Data is stored in the form of [hypergraphs](http://en.wikipedia.org/wiki/Hypergraph). A [graph](http://en.wikipedia.org/wiki/Graph_%28discrete_mathematics%29) is a collection of [vertices](http://en.wikipedia.org/wiki/Vertex_%28graph_theory%29) (*nodes*) and [edges](http://en.wikipedia.org/wiki/Glossary_of_graph_theory_terms#edge) (*links*), in which each edge connects two vertices. A hypergraph is a graph in which each edge can connect an arbitrary number of vertices. In *Atomspace* the vertices and edges are collectively called [*Atoms*](https://wiki.opencog.org/w/Atom). So the *Atomspace* has hypergraphs that are made up of *Atoms*.\n",
    "\n",
    "### Atoms, Links and Nodes\n",
    "Each *Atom* has a set of properties associated with it. Based on these, *atoms* are classified into *Links* and *Nodes*.\n",
    "\n",
    "**_Nodes_**: These are uniquely identified by the combination of **name** and **type**. So no two *Nodes* in an *Atomspace* can have both the same **name** and the same **type**. These kinds of *atoms* correspond to the vertices in the hypergraph.\n",
    "> **example:**<br>\n",
    "*(ConceptNode \"HelloWorld\")* <br>\n",
    "This is initialization of a *node* of **type** *ConceptNode* and **name** *HelloWorld*.\n",
    "\n",
    "**_Links_**: *Links* are uniquely identified by the combination of **outgoing set**(the *atoms* it points to) and **type**. These correspond to the edges in the hypergraph.\n",
    "> **example:**<br>\n",
    "*(InheritanceLink (ConceptNode \"Fox\") (ConceptNode \"Animal\"))* <br>\n",
    "This is initialization of a *link* of **type** *InheritanceLink* and **pointing to the nodes** *(ConceptNode \"Fox\")* and *(ConceptNode \"Animal\")*."
   ]
  },
  {
   "cell_type": "markdown",
   "metadata": {},
   "source": [
    "# Practise\n",
    "## For scheme Environment\n",
    "### Making some atoms (scheme)\n",
    "*Scheme* is a dialect of [*lisp*](http://en.wikipedia.org/wiki/Lisp). *Lisp* is a programming language from the days of yore. Now before you pack up and move to the *python* section, it is a really fun language. And learning it, at least for what you need to do in this section, is easier than even [*python*](http://www.python.org/).<br>\n",
    "**1. Starting the _scheme shell_:** If you installed everything correctly then you should be able to open a *scheme shell* by typing *guile* in your *terminal*.\n",
    "> *$ guile* <br>\n",
    "GNU Guile 2.0.9<br>\n",
    "Copyright (C) 1995-2013 Free Software Foundation, Inc.<br><br>\n",
    "Guile comes with ABSOLUTELY NO WARRANTY; for details type ```,show w'.\n",
    "This program is free software, and you are welcome to redistribute it\n",
    "under certain conditions; type `,show c'`` for details.<br><br>\n",
    "Enter `,help' for help.<br>\n",
    "scheme@(guile-user)> \n",
    "\n",
    "**2. Loading _opencog_:** Before we can start playing with *Atoms* we need to load the *opencog modules* into the *scheme shell* we just opened. To do this you need to type the following in the *scheme shell*:<br>\n",
    "> *scheme@(guile-user)> (use-modules (ice-9 readline)) (activate-readline)<br>\n",
    "scheme@(guile-user)> (add-to-load-path \"/usr/local/share/opencog/scm\")<br>\n",
    "scheme@(guile-user)> (add-to-load-path \".\")<br>\n",
    "scheme@(guile-user)> (use-modules (opencog))<br>\n",
    "scheme@(guile-user)> (use-modules (opencog query))<br>\n",
    "scheme@(guile-user)> (use-modules (opencog exec))<br>*\n",
    "\n",
    "**Note: **You can put this in your *~/.guile* file (create one if none exists) to avoid typing this every time.<br>\n",
    "\n",
    "To do this :\n",
    "> *\\$ cd *<br>\n",
    "*\\$ vim ~/.guile*\n",
    "\n",
    "then copy-paste the codes, listed below, for loading the *opencog modules* into the *~/.guile* and save the file :\n",
    "> *(use-modules (ice-9 readline)) (activate-readline)<br>\n",
    "(add-to-load-path \"/usr/local/share/opencog/scm\")<br>\n",
    "(add-to-load-path \".\")<br>\n",
    "(use-modules (opencog))<br>\n",
    "(use-modules (opencog query))<br>\n",
    "(use-modules (opencog exec))<br>*\n",
    "\n",
    "You can also put these commands at the top of any *.scm* file and then run it by typing: <br>\n",
    "> *$ guile filename.scm*\n",
    "\n",
    "**3. Creating _Atoms(Nodes)_:** At the *scheme* prompt you can create a _node_ of type *ConceptNode* by typing:<br>\n",
    "> *scheme@(guile-user)> (ConceptNode \"HelloWorld\")<br>*\n",
    "$1 = (ConceptNode \"HelloWorld\")\n",
    "\n",
    "There are several types of *Nodes* that you can create using a similar syntax. For an exhaustive list see this [page](https://wiki.opencog.org/w/Category:Atom_Types). All *nodes* can be created by specifying a **name** and a **type**. When you create a *node* this way it is added to the *atomspace*. This *atomspace* is automatically created when we load *opencog* in the *scheme shell*.\n",
    "\n",
    "**4. Creating _Atoms(Links)_:** Since *Links* are identified by their **type** and their **outgoing set**, we create them by specifying those two attributes.\n",
    "> *scheme@(guile-user)> (InheritanceLink (ConceptNode \"Fox\") (ConceptNode \"Animal\"))*<br>\n",
    "$2 = (InheritanceLink<br>\n",
    "   (ConceptNode \"Fox\")<br>\n",
    "   (ConceptNode \"Animal\")<br>\n",
    ")<br>\n",
    "\n",
    "Here the **type** of the *link* is *InheritanceLink* and the **outgoing set** consists of two *ConceptNodes* named *\"Fox\"* and *\"Animal\"* respectively. Again there are several types of *links* and you can look at the exhaustive list at the same [page](https://wiki.opencog.org/w/Category:Atom_Types).\n",
    "\n",
    "**5. Querying the *atomspace*: **Till now we have added *Atoms* to the *Atomspace*. This amounts to adding knowledge/data in the *Knowledge Representation* database. Now we will take the next step and do something with that knowledge/data. Let us start by just subtracting two numbers.\n",
    "\n",
    "First we add two numbers into the *Atomspace*.\n",
    "> *scheme@(guile-user)> (define num1 (NumberNode 5))*<br>\n",
    "*scheme@(guile-user)> (define num2 (NumberNode 3))*<br> \n",
    "\n",
    "\n",
    "Now, we add a procedure, that knows how to subtract the two numbers, into the *Atomspace*.<br>\n",
    "> *scheme@(guile-user)> (define my_subtracter (MinusLink num1 num2))*\n",
    "\n",
    "Finally, we use the function *cog-execute!* to run this procedure. (More about this in the next section).\n",
    "> *scheme@(guile-user)> (cog-execute! my_subtracter)*<br> \n",
    "$3 = (NumberNode \"2.000000\")"
   ]
  },
  {
   "cell_type": "markdown",
   "metadata": {},
   "source": [
    "## For Notebook Environment"
   ]
  },
  {
   "cell_type": "markdown",
   "metadata": {},
   "source": [
    "**1. Loading _opencog_:** Before we can start playing with *Atoms*, we need to load the *opencog modules*."
   ]
  },
  {
   "cell_type": "code",
   "execution_count": 1,
   "metadata": {
    "collapsed": true
   },
   "outputs": [],
   "source": [
    "; loading opencog modules\n",
    "(use-modules (ice-9 readline)) (activate-readline)\n",
    "(add-to-load-path \"/usr/local/share/opencog/scm\")\n",
    "(add-to-load-path \".\")\n",
    "(use-modules (opencog))\n",
    "(use-modules (opencog query))\n",
    "(use-modules (opencog exec))"
   ]
  },
  {
   "cell_type": "markdown",
   "metadata": {},
   "source": [
    "**2. Creating _Atoms(Nodes)_:** You can create a _node_ of type *ConceptNode* and other [node types](https://wiki.opencog.org/w/Category:Atom_Types) same way as below. When you create a *node* this way, it is added to the *atomspace*. This *atomspace* is automatically created when we load *opencog*."
   ]
  },
  {
   "cell_type": "code",
   "execution_count": 2,
   "metadata": {},
   "outputs": [
    {
     "data": {
      "text/plain": [
       "(ConceptNode \"HelloWorld\")\n"
      ]
     },
     "execution_count": 2,
     "metadata": {},
     "output_type": "execute_result"
    }
   ],
   "source": [
    "; creating Atom(Node) of type ConceptNode \n",
    "(ConceptNode \"HelloWorld\")"
   ]
  },
  {
   "cell_type": "markdown",
   "metadata": {},
   "source": [
    "**3. Creating _Atoms(Links)_:** Since *Links* are identified by their **type** and their **outgoing set**, we create them by specifying those two attributes. Here in the example below, the **type** of the *link* is *InheritanceLink* and the **outgoing set** consists of two *ConceptNodes* named *\"Fox\"* and *\"Animal\"* respectively. Again there are several types of *links* and you can look at the exhaustive list at this [page](https://wiki.opencog.org/w/Category:Atom_Types)."
   ]
  },
  {
   "cell_type": "code",
   "execution_count": 3,
   "metadata": {},
   "outputs": [
    {
     "data": {
      "text/plain": [
       "(InheritanceLink\n",
       "   (ConceptNode \"Fox\")\n",
       "   (ConceptNode \"Animal\")\n",
       ")\n"
      ]
     },
     "execution_count": 3,
     "metadata": {},
     "output_type": "execute_result"
    }
   ],
   "source": [
    "; creating Atom(Link)of type InheritanceLink \n",
    "(InheritanceLink (ConceptNode \"Fox\") (ConceptNode \"Animal\")) "
   ]
  },
  {
   "cell_type": "markdown",
   "metadata": {},
   "source": [
    "**4. Querying the *atomspace*: **Till now we have added *Atoms* to the *Atomspace*. This amounts to adding knowledge/data in the *Knowledge Representation* database. Now we will take the next step and do something with that knowledge/data. Let us start by just subtracting two numbers."
   ]
  },
  {
   "cell_type": "code",
   "execution_count": 5,
   "metadata": {
    "collapsed": true
   },
   "outputs": [],
   "source": [
    "; QUERYING THE ATOMSPACE\n",
    "; first we add two numbers into the Atomspace.\n",
    "(define num1 (NumberNode 5))\n",
    "(define num2 (NumberNode 3))\n",
    "; now, we add a procedure that knows how to subtract the two numbers.\n",
    "(define my_subtracter (MinusLink num1 num2))"
   ]
  },
  {
   "cell_type": "code",
   "execution_count": 6,
   "metadata": {},
   "outputs": [
    {
     "data": {
      "text/plain": [
       "(NumberNode \"2.000000\")\n"
      ]
     },
     "execution_count": 6,
     "metadata": {},
     "output_type": "execute_result"
    }
   ],
   "source": [
    "; Finally, we use the function \"cog-execute!\" to run this procedure.\n",
    "(cog-execute! my_subtracter)"
   ]
  },
  {
   "cell_type": "markdown",
   "metadata": {
    "collapsed": true
   },
   "source": [
    "# Quiz\n",
    "**1. What is _Atomspace_?**<br>\n",
    "\n",
    "> **A.** According to Plato, its a theoretical space of all atomic types, a periodic table if you will, where all material derive from these five fundamental atomic types: earth, water, air, fire, and the proposed 5th element which Plato postulated must exist which Aristotle later called 'ether'.<br>\n",
    "**B. ** A modern metaphysical construct representing the basic building blocks of the material universe.<br>\n",
    "**C. ** Knowledge Representation database and the associated query engine that is used to manipulate the data it stores.<br>\n",
    "**D. ** Atom Ant's hideout.<br>\n",
    "\n",
    "**2. What is a _Node_?**<br>\n",
    "\n",
    "> **A. ** A form of hypersonic vaccumous awl used by the galactic federation of machine elves to rescue the operating thetan scientologists from vengeful volcanic utility fog.<br>\n",
    "**B. ** An extremely blocked nose - which makes it really hard to pronounce the letter 's', making it instead sound like the letter 'd'.<br>\n",
    "**C. ** An open-source, cross-platform JavaScript runtime environment for developing a diverse variety of tools and applications.<br>\n",
    "**D. ** These are uniquely identified by the combination of name and type. So no two Nodes in an Atomspace can have both the same name and the same type. These atoms correspond to the vertices in the hypergraph.<br>\n",
    "\n",
    "**3. How are _links_ identified?**<br>\n",
    "\n",
    "> **A. ** Ask yo mother.<br>\n",
    "**B. ** By the combination of the outgoing set (the atoms it points to) and type (which correspond to the edges in the hypergraph).<br>\n",
    "**C.** By querying the hypergraph, selecting for the unique identifiers of the nodes between which the links operate, and applying a 'having' clause which selects for and projects the identified link.<br>\n",
    "**D. ** By typing '(cog-bind deduction-interface-rule)'.<br>\n",
    "**E. ** By typing '(cog-bind deduction-inherit-rule)'.<br>\n",
    "\n",
    "**4. _Scheme_ is a dialect of ....**<br>\n",
    "\n",
    "> **A. ** Python<br>\n",
    "**B. ** C<br>\n",
    "**C. ** Guile<br>\n",
    "**D. ** Visual Basic<br>\n",
    "**E. ** Lisp<br>\n",
    "\n",
    "**5. How do you enter the _scheme shell_?**<br>\n",
    "\n",
    "> **A. ** type '_Scheme -lxe_' in _terminal_<br>\n",
    "**B. ** click on the shortcut marked '_scheme_' on your windows desktop<br>\n",
    "**C. ** type '_help_' in _scheme shell_ and hope for the best<br>\n",
    "**D. ** type '_guile_' in _terminal_<br>\n",
    "**E. ** type '_vim ~/.guile_' in _terminal_<br>\n",
    "\n",
    "**ANSWER:**<br>\n",
    "**C**, **D**, **B**, **E**, **D** respectively."
   ]
  }
 ],
 "metadata": {
  "kernelspec": {
   "display_name": "Guile",
   "language": "scheme",
   "name": "guile"
  },
  "language_info": {
   "codemirror_mode": "scheme",
   "file_extension": ".scm",
   "mimetype": "application/x-scheme",
   "name": "guile",
   "pygments_lexer": "scheme",
   "version": "2.0.0"
  }
 },
 "nbformat": 4,
 "nbformat_minor": 2
}
