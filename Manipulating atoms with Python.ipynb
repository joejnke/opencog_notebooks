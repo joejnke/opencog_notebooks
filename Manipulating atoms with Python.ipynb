{
 "cells": [
  {
   "cell_type": "code",
   "execution_count": 19,
   "metadata": {},
   "outputs": [
    {
     "data": {
      "text/plain": [
       "['',\n",
       " '/opencog/build/opencog/cython',\n",
       " '/opencog/opencog/python',\n",
       " '/opencog/opencog/nlp',\n",
       " '/usr/lib/python35.zip',\n",
       " '/usr/lib/python3.5',\n",
       " '/usr/lib/python3.5/plat-x86_64-linux-gnu',\n",
       " '/usr/lib/python3.5/lib-dynload',\n",
       " '/usr/local/lib/python3.5/dist-packages',\n",
       " '/usr/lib/python3/dist-packages',\n",
       " '/usr/local/lib/python3.5/dist-packages/IPython/extensions',\n",
       " '/home/opencog/.ipython',\n",
       " '/opencog/build/opencog/cython',\n",
       " '/opencog/opencog/python/',\n",
       " '/opencog/opencog/nlp/']"
      ]
     },
     "execution_count": 19,
     "metadata": {},
     "output_type": "execute_result"
    }
   ],
   "source": [
    "import sys\n",
    "sys.path"
   ]
  },
  {
   "cell_type": "markdown",
   "metadata": {},
   "source": [
    "# Making some Atoms in python\n",
    "\n",
    "Here we will mostly use the ipython shell to give examples. But you can of course put all the commands in a script_name.py script if you like and execute it, on terminal, using the command \n",
    "\n",
    "$ python script_name.py "
   ]
  },
  {
   "cell_type": "code",
   "execution_count": 20,
   "metadata": {},
   "outputs": [],
   "source": [
    "# Import AtomSpace and types to start making atoms.\n",
    "from opencog.atomspace import AtomSpace, types"
   ]
  },
  {
   "cell_type": "markdown",
   "metadata": {},
   "source": [
    "There are two ways to create Atoms in python. You can use the c++ like syntax or you can use the scheme like syntax."
   ]
  },
  {
   "cell_type": "markdown",
   "metadata": {},
   "source": [
    "# c++ like syntax"
   ]
  },
  {
   "cell_type": "code",
   "execution_count": 21,
   "metadata": {},
   "outputs": [],
   "source": [
    "#declare an atomspace called atsp\n",
    "atsp = AtomSpace()"
   ]
  },
  {
   "cell_type": "code",
   "execution_count": 22,
   "metadata": {},
   "outputs": [],
   "source": [
    "#initializing atoms(nodes) of type ConceptNode.\n",
    "cat = atsp.add_node(types.ConceptNode, \"Cat\")\n",
    "animal = atsp.add_node(types.ConceptNode, \"Animal\")\n",
    "man = atsp.add_node(types.ConceptNode, \"Man\")"
   ]
  },
  {
   "cell_type": "code",
   "execution_count": 24,
   "metadata": {
    "scrolled": true
   },
   "outputs": [
    {
     "data": {
      "text/plain": [
       "(ConceptNode \"Man\") ; [4943478229863008194][4]"
      ]
     },
     "execution_count": 24,
     "metadata": {},
     "output_type": "execute_result"
    }
   ],
   "source": [
    "#print a node\n",
    "man"
   ]
  },
  {
   "cell_type": "markdown",
   "metadata": {},
   "source": [
    "Printing the AtomSpace will not quite work out as we might expect from c++. We can print its contents as follows:"
   ]
  },
  {
   "cell_type": "code",
   "execution_count": 25,
   "metadata": {},
   "outputs": [
    {
     "name": "stdout",
     "output_type": "stream",
     "text": [
      "(ConceptNode \"Man\")\n",
      "\n",
      "(ConceptNode \"Animal\")\n",
      "\n",
      "(ConceptNode \"Cat\")\n",
      "\n"
     ]
    }
   ],
   "source": [
    "#print the atomsapce\n",
    "for atom in atsp:\n",
    "    print (atom)"
   ]
  },
  {
   "cell_type": "markdown",
   "metadata": {},
   "source": [
    "Now lets add some links into the AtomSpace. This is again, just like c++."
   ]
  },
  {
   "cell_type": "code",
   "execution_count": 26,
   "metadata": {},
   "outputs": [
    {
     "data": {
      "text/plain": [
       "(InheritanceLink\n",
       "  (ConceptNode \"Man\") ; [4943478229863008194][4]\n",
       "  (ConceptNode \"Animal\") ; [1051227453015520217][4]\n",
       ") ; [17186793166877131821][4]"
      ]
     },
     "execution_count": 26,
     "metadata": {},
     "output_type": "execute_result"
    }
   ],
   "source": [
    "#initialize atom of type InheritanceLink.\n",
    "atsp.add_link(types.InheritanceLink, [man, animal])"
   ]
  },
  {
   "cell_type": "markdown",
   "metadata": {},
   "source": [
    "# scheme like syntax\n",
    "\n",
    "To use scheme like concise syntax you have to do a few extra steps. Import the type_constructors that enable you to add atoms to the AtomSpace by calling functions named after their types. Import initialize_opencog, a function that binds an AtomSpace instance (atsp in our case) to the type_constructors."
   ]
  },
  {
   "cell_type": "code",
   "execution_count": 27,
   "metadata": {},
   "outputs": [],
   "source": [
    "#Import initialize_opencog\n",
    "from opencog.utilities import initialize_opencog"
   ]
  },
  {
   "cell_type": "code",
   "execution_count": 28,
   "metadata": {},
   "outputs": [],
   "source": [
    "#Import type_constructors\n",
    "from opencog.type_constructors import *"
   ]
  },
  {
   "cell_type": "markdown",
   "metadata": {},
   "source": [
    "Now you can add atoms just like in scheme. This becomes very useful when you start building complex patterns for the pattern matcher."
   ]
  },
  {
   "cell_type": "code",
   "execution_count": 29,
   "metadata": {},
   "outputs": [],
   "source": [
    "#bind atsp with the type_constructors\n",
    "initialize_opencog(atsp)"
   ]
  },
  {
   "cell_type": "code",
   "execution_count": 30,
   "metadata": {},
   "outputs": [],
   "source": [
    "#initialize and add more atoms into atsp\n",
    "color = ConceptNode(\"Color\")\n",
    "c1 = ConceptNode(\"Blue\")\n",
    "link = InheritanceLink(c1, color)"
   ]
  },
  {
   "cell_type": "code",
   "execution_count": 31,
   "metadata": {},
   "outputs": [
    {
     "name": "stdout",
     "output_type": "stream",
     "text": [
      "(ConceptNode \"Cat\")\n",
      "\n",
      "(ConceptNode \"Blue\")\n",
      "\n",
      "(ConceptNode \"Animal\")\n",
      "\n",
      "(ConceptNode \"Color\")\n",
      "\n",
      "(ConceptNode \"Man\")\n",
      "\n",
      "(InheritanceLink\n",
      "  (ConceptNode \"Blue\")\n",
      "  (ConceptNode \"Color\")\n",
      ")\n",
      "\n",
      "(InheritanceLink\n",
      "  (ConceptNode \"Man\")\n",
      "  (ConceptNode \"Animal\")\n",
      ")\n",
      "\n"
     ]
    }
   ],
   "source": [
    "#print the atomspace\n",
    "for atom in atsp:\n",
    "    print (atom)"
   ]
  },
  {
   "cell_type": "markdown",
   "metadata": {},
   "source": [
    "One last thing before we wrap this up. The Atoms are classes with a lot of useful methods. If you are in the ipython shell you can look at a list of the methods by writing <variable_pointing_to_an_atom> < Tab >. For example, we have a variable called \"color\" that points to the ConceptNode object of name \"Color\". Then we can see a list of all the methods by:\n",
    "\n",
    "color.< Press Tab >"
   ]
  },
  {
   "cell_type": "markdown",
   "metadata": {},
   "source": [
    "# Pattern Matching\n",
    "\n",
    "Now lets look at how we can run the PM through python. The PM functions are defined in c++ and made available in python through wrappers that are defined in atomspace/opencog/cython/opencog/bindlink.pyx and you can see the imports in atomspace/opencog/cython/opencog/bindlink.pxd\n",
    "\n",
    "Here we will again run the equivalent of bindlink and cog-staisfying-set functions in scheme."
   ]
  },
  {
   "cell_type": "code",
   "execution_count": 32,
   "metadata": {},
   "outputs": [],
   "source": [
    "#Import the satisfying_set function\n",
    "from opencog.bindlink import satisfying_set"
   ]
  },
  {
   "cell_type": "code",
   "execution_count": 33,
   "metadata": {},
   "outputs": [],
   "source": [
    "#Delete existing atoms\n",
    "atsp.clear()\n",
    "#NOTE that the atoms are deleted only from atsp not from the entire python environment. "
   ]
  },
  {
   "cell_type": "code",
   "execution_count": 34,
   "metadata": {},
   "outputs": [
    {
     "data": {
      "text/plain": [
       "(InheritanceLink\n",
       "  (ConceptNode \"Blue\") ; [3109859930626802082][4]\n",
       "  (ConceptNode \"Color\") ; [8429230717376582988][4]\n",
       ") ; [10172252740717271936][4]"
      ]
     },
     "execution_count": 34,
     "metadata": {},
     "output_type": "execute_result"
    }
   ],
   "source": [
    "#Create some atoms\n",
    "InheritanceLink(ConceptNode(\"Red\"), color)\n",
    "InheritanceLink(ConceptNode(\"Green\"), color)\n",
    "InheritanceLink(ConceptNode(\"Blue\"), color)"
   ]
  },
  {
   "cell_type": "code",
   "execution_count": 35,
   "metadata": {},
   "outputs": [],
   "source": [
    "#Create a pattern to look for color nodes\n",
    "varlink = TypedVariableLink(VariableNode(\"$xcol\"), TypeNode(\"ConceptNode\"))\n",
    "pattern = InheritanceLink(VariableNode(\"$xcol\"), color)\n",
    "colornodes = GetLink(varlink, pattern)"
   ]
  },
  {
   "cell_type": "code",
   "execution_count": 36,
   "metadata": {},
   "outputs": [
    {
     "data": {
      "text/plain": [
       "(SetLink\n",
       "  (ConceptNode \"Blue\") ; [3109859930626802082][4]\n",
       "  (ConceptNode \"Red\") ; [6709574915108404932][4]\n",
       "  (ConceptNode \"Green\") ; [7362795004147159697][4]\n",
       ") ; [16291863344720241133][4]"
      ]
     },
     "execution_count": 36,
     "metadata": {},
     "output_type": "execute_result"
    }
   ],
   "source": [
    "#Now run the function to find all color nodes\n",
    "satisfying_set(atsp, colornodes)"
   ]
  },
  {
   "cell_type": "markdown",
   "metadata": {},
   "source": [
    "In a similar manner you can import bindlink from opencog.bindlink and use it to execute rewrite queries (with the help of BindLink in place of SatisfactionLink)"
   ]
  },
  {
   "cell_type": "code",
   "execution_count": null,
   "metadata": {},
   "outputs": [],
   "source": []
  }
 ],
 "metadata": {
  "kernelspec": {
   "display_name": "Python 3",
   "language": "python",
   "name": "python3"
  },
  "language_info": {
   "codemirror_mode": {
    "name": "ipython",
    "version": 3
   },
   "file_extension": ".py",
   "mimetype": "text/x-python",
   "name": "python",
   "nbconvert_exporter": "python",
   "pygments_lexer": "ipython3",
   "version": "3.5.2"
  }
 },
 "nbformat": 4,
 "nbformat_minor": 2
}
